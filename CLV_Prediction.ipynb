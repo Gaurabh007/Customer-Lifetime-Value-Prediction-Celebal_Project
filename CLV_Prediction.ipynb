{
 "cells": [
  {
   "cell_type": "markdown",
   "id": "5a7b9474",
   "metadata": {},
   "source": [
    "# **Customer Lifetime Value Prediction**🧑📈"
   ]
  },
  {
   "cell_type": "code",
   "execution_count": null,
   "id": "6e836ce4",
   "metadata": {},
   "outputs": [],
   "source": [
    "import pandas as pd\n",
    "import numpy as np\n",
    "import matplotlib.pyplot as mlt\n",
    "import warnings\n",
    "warnings.filterwarnings('ignore')"
   ]
  },
  {
   "cell_type": "code",
   "execution_count": 3,
   "id": "527abedc",
   "metadata": {},
   "outputs": [],
   "source": [
    "\n",
    "df1 = pd.read_excel(\"data/online_retail_II.xlsx\", sheet_name=\"Year 2009-2010\")\n",
    "df2 = pd.read_excel(\"data/online_retail_II.xlsx\", sheet_name=\"Year 2010-2011\")\n",
    "\n",
    "\n",
    "df = pd.concat([df1, df2], ignore_index=True)\n",
    "df[\"InvoiceDate\"] = pd.to_datetime(df[\"InvoiceDate\"])\n"
   ]
  },
  {
   "cell_type": "code",
   "execution_count": 4,
   "id": "ed6acf43",
   "metadata": {},
   "outputs": [
    {
     "data": {
      "text/html": [
       "<div>\n",
       "<style scoped>\n",
       "    .dataframe tbody tr th:only-of-type {\n",
       "        vertical-align: middle;\n",
       "    }\n",
       "\n",
       "    .dataframe tbody tr th {\n",
       "        vertical-align: top;\n",
       "    }\n",
       "\n",
       "    .dataframe thead th {\n",
       "        text-align: right;\n",
       "    }\n",
       "</style>\n",
       "<table border=\"1\" class=\"dataframe\">\n",
       "  <thead>\n",
       "    <tr style=\"text-align: right;\">\n",
       "      <th></th>\n",
       "      <th>Invoice</th>\n",
       "      <th>StockCode</th>\n",
       "      <th>Description</th>\n",
       "      <th>Quantity</th>\n",
       "      <th>InvoiceDate</th>\n",
       "      <th>Price</th>\n",
       "      <th>Customer ID</th>\n",
       "      <th>Country</th>\n",
       "    </tr>\n",
       "  </thead>\n",
       "  <tbody>\n",
       "    <tr>\n",
       "      <th>0</th>\n",
       "      <td>489434</td>\n",
       "      <td>85048</td>\n",
       "      <td>15CM CHRISTMAS GLASS BALL 20 LIGHTS</td>\n",
       "      <td>12</td>\n",
       "      <td>2009-12-01 07:45:00</td>\n",
       "      <td>6.95</td>\n",
       "      <td>13085.0</td>\n",
       "      <td>United Kingdom</td>\n",
       "    </tr>\n",
       "    <tr>\n",
       "      <th>1</th>\n",
       "      <td>489434</td>\n",
       "      <td>79323P</td>\n",
       "      <td>PINK CHERRY LIGHTS</td>\n",
       "      <td>12</td>\n",
       "      <td>2009-12-01 07:45:00</td>\n",
       "      <td>6.75</td>\n",
       "      <td>13085.0</td>\n",
       "      <td>United Kingdom</td>\n",
       "    </tr>\n",
       "    <tr>\n",
       "      <th>2</th>\n",
       "      <td>489434</td>\n",
       "      <td>79323W</td>\n",
       "      <td>WHITE CHERRY LIGHTS</td>\n",
       "      <td>12</td>\n",
       "      <td>2009-12-01 07:45:00</td>\n",
       "      <td>6.75</td>\n",
       "      <td>13085.0</td>\n",
       "      <td>United Kingdom</td>\n",
       "    </tr>\n",
       "    <tr>\n",
       "      <th>3</th>\n",
       "      <td>489434</td>\n",
       "      <td>22041</td>\n",
       "      <td>RECORD FRAME 7\" SINGLE SIZE</td>\n",
       "      <td>48</td>\n",
       "      <td>2009-12-01 07:45:00</td>\n",
       "      <td>2.10</td>\n",
       "      <td>13085.0</td>\n",
       "      <td>United Kingdom</td>\n",
       "    </tr>\n",
       "    <tr>\n",
       "      <th>4</th>\n",
       "      <td>489434</td>\n",
       "      <td>21232</td>\n",
       "      <td>STRAWBERRY CERAMIC TRINKET BOX</td>\n",
       "      <td>24</td>\n",
       "      <td>2009-12-01 07:45:00</td>\n",
       "      <td>1.25</td>\n",
       "      <td>13085.0</td>\n",
       "      <td>United Kingdom</td>\n",
       "    </tr>\n",
       "  </tbody>\n",
       "</table>\n",
       "</div>"
      ],
      "text/plain": [
       "  Invoice StockCode                          Description  Quantity  \\\n",
       "0  489434     85048  15CM CHRISTMAS GLASS BALL 20 LIGHTS        12   \n",
       "1  489434    79323P                   PINK CHERRY LIGHTS        12   \n",
       "2  489434    79323W                  WHITE CHERRY LIGHTS        12   \n",
       "3  489434     22041         RECORD FRAME 7\" SINGLE SIZE         48   \n",
       "4  489434     21232       STRAWBERRY CERAMIC TRINKET BOX        24   \n",
       "\n",
       "          InvoiceDate  Price  Customer ID         Country  \n",
       "0 2009-12-01 07:45:00   6.95      13085.0  United Kingdom  \n",
       "1 2009-12-01 07:45:00   6.75      13085.0  United Kingdom  \n",
       "2 2009-12-01 07:45:00   6.75      13085.0  United Kingdom  \n",
       "3 2009-12-01 07:45:00   2.10      13085.0  United Kingdom  \n",
       "4 2009-12-01 07:45:00   1.25      13085.0  United Kingdom  "
      ]
     },
     "execution_count": 4,
     "metadata": {},
     "output_type": "execute_result"
    }
   ],
   "source": [
    "df.head()"
   ]
  },
  {
   "cell_type": "code",
   "execution_count": 6,
   "id": "00484a75",
   "metadata": {},
   "outputs": [
    {
     "name": "stdout",
     "output_type": "stream",
     "text": [
      "<class 'pandas.core.frame.DataFrame'>\n",
      "RangeIndex: 1067371 entries, 0 to 1067370\n",
      "Data columns (total 8 columns):\n",
      " #   Column       Non-Null Count    Dtype         \n",
      "---  ------       --------------    -----         \n",
      " 0   Invoice      1067371 non-null  object        \n",
      " 1   StockCode    1067371 non-null  object        \n",
      " 2   Description  1062989 non-null  object        \n",
      " 3   Quantity     1067371 non-null  int64         \n",
      " 4   InvoiceDate  1067371 non-null  datetime64[ns]\n",
      " 5   Price        1067371 non-null  float64       \n",
      " 6   Customer ID  824364 non-null   float64       \n",
      " 7   Country      1067371 non-null  object        \n",
      "dtypes: datetime64[ns](1), float64(2), int64(1), object(4)\n",
      "memory usage: 65.1+ MB\n"
     ]
    }
   ],
   "source": [
    "df.info()"
   ]
  },
  {
   "cell_type": "code",
   "execution_count": 7,
   "id": "46dee170-9fb1-4502-97f7-09145fbce3e3",
   "metadata": {},
   "outputs": [
    {
     "data": {
      "text/plain": [
       "Invoice             0\n",
       "StockCode           0\n",
       "Description      4382\n",
       "Quantity            0\n",
       "InvoiceDate         0\n",
       "Price               0\n",
       "Customer ID    243007\n",
       "Country             0\n",
       "dtype: int64"
      ]
     },
     "execution_count": 7,
     "metadata": {},
     "output_type": "execute_result"
    }
   ],
   "source": [
    "df.isnull().sum()"
   ]
  },
  {
   "cell_type": "markdown",
   "id": "6e810990",
   "metadata": {},
   "source": [
    "# Data Cleaning✨"
   ]
  },
  {
   "cell_type": "code",
   "execution_count": null,
   "id": "dbbfd50c-c523-413f-acf5-f0d5dcbb62c2",
   "metadata": {},
   "outputs": [],
   "source": [
    "# Remove rows with missing 'Customer ID' or 'Description'\n",
    "df = df.dropna(subset=['Customer ID', 'Description'])"
   ]
  },
  {
   "cell_type": "code",
   "execution_count": null,
   "id": "3d3003e2-5770-4686-98cd-3f0cecc1f7fc",
   "metadata": {},
   "outputs": [],
   "source": [
    "# Remove cancelled transactions (Invoice starts with 'C')\n",
    "df = df[~df['Invoice'].astype(str).str.startswith('C')]"
   ]
  },
  {
   "cell_type": "code",
   "execution_count": null,
   "id": "4305017b",
   "metadata": {},
   "outputs": [],
   "source": [
    "# Correcting data types\n",
    "df['Customer ID'] = df['Customer ID'].astype(int)"
   ]
  },
  {
   "cell_type": "code",
   "execution_count": null,
   "id": "aec58021",
   "metadata": {},
   "outputs": [],
   "source": [
    "# Remove non-positive quantities or prices\n",
    "df = df[(df['Quantity'] > 0) & (df['Price'] > 0)]"
   ]
  },
  {
   "cell_type": "code",
   "execution_count": null,
   "id": "58ac00e0-cc70-4a11-a6de-45bdf5a0bb59",
   "metadata": {},
   "outputs": [],
   "source": [
    "# Create a TotalPrice column for future calculations\n",
    "df['TotalPrice'] = df['Quantity'] * df['Price']"
   ]
  },
  {
   "cell_type": "code",
   "execution_count": 13,
   "id": "8ebfd6ec-2ee2-42ce-adbe-021f4badc506",
   "metadata": {},
   "outputs": [],
   "source": [
    "df = df.reset_index(drop=True)"
   ]
  },
  {
   "cell_type": "code",
   "execution_count": 14,
   "id": "15cbf97b-748c-40cf-a004-35459bd1d585",
   "metadata": {},
   "outputs": [
    {
     "data": {
      "text/html": [
       "<div>\n",
       "<style scoped>\n",
       "    .dataframe tbody tr th:only-of-type {\n",
       "        vertical-align: middle;\n",
       "    }\n",
       "\n",
       "    .dataframe tbody tr th {\n",
       "        vertical-align: top;\n",
       "    }\n",
       "\n",
       "    .dataframe thead th {\n",
       "        text-align: right;\n",
       "    }\n",
       "</style>\n",
       "<table border=\"1\" class=\"dataframe\">\n",
       "  <thead>\n",
       "    <tr style=\"text-align: right;\">\n",
       "      <th></th>\n",
       "      <th>Invoice</th>\n",
       "      <th>StockCode</th>\n",
       "      <th>Description</th>\n",
       "      <th>Quantity</th>\n",
       "      <th>InvoiceDate</th>\n",
       "      <th>Price</th>\n",
       "      <th>Customer ID</th>\n",
       "      <th>Country</th>\n",
       "      <th>TotalPrice</th>\n",
       "    </tr>\n",
       "  </thead>\n",
       "  <tbody>\n",
       "    <tr>\n",
       "      <th>0</th>\n",
       "      <td>489434</td>\n",
       "      <td>85048</td>\n",
       "      <td>15CM CHRISTMAS GLASS BALL 20 LIGHTS</td>\n",
       "      <td>12</td>\n",
       "      <td>2009-12-01 07:45:00</td>\n",
       "      <td>6.95</td>\n",
       "      <td>13085</td>\n",
       "      <td>United Kingdom</td>\n",
       "      <td>83.4</td>\n",
       "    </tr>\n",
       "    <tr>\n",
       "      <th>1</th>\n",
       "      <td>489434</td>\n",
       "      <td>79323P</td>\n",
       "      <td>PINK CHERRY LIGHTS</td>\n",
       "      <td>12</td>\n",
       "      <td>2009-12-01 07:45:00</td>\n",
       "      <td>6.75</td>\n",
       "      <td>13085</td>\n",
       "      <td>United Kingdom</td>\n",
       "      <td>81.0</td>\n",
       "    </tr>\n",
       "    <tr>\n",
       "      <th>2</th>\n",
       "      <td>489434</td>\n",
       "      <td>79323W</td>\n",
       "      <td>WHITE CHERRY LIGHTS</td>\n",
       "      <td>12</td>\n",
       "      <td>2009-12-01 07:45:00</td>\n",
       "      <td>6.75</td>\n",
       "      <td>13085</td>\n",
       "      <td>United Kingdom</td>\n",
       "      <td>81.0</td>\n",
       "    </tr>\n",
       "    <tr>\n",
       "      <th>3</th>\n",
       "      <td>489434</td>\n",
       "      <td>22041</td>\n",
       "      <td>RECORD FRAME 7\" SINGLE SIZE</td>\n",
       "      <td>48</td>\n",
       "      <td>2009-12-01 07:45:00</td>\n",
       "      <td>2.10</td>\n",
       "      <td>13085</td>\n",
       "      <td>United Kingdom</td>\n",
       "      <td>100.8</td>\n",
       "    </tr>\n",
       "    <tr>\n",
       "      <th>4</th>\n",
       "      <td>489434</td>\n",
       "      <td>21232</td>\n",
       "      <td>STRAWBERRY CERAMIC TRINKET BOX</td>\n",
       "      <td>24</td>\n",
       "      <td>2009-12-01 07:45:00</td>\n",
       "      <td>1.25</td>\n",
       "      <td>13085</td>\n",
       "      <td>United Kingdom</td>\n",
       "      <td>30.0</td>\n",
       "    </tr>\n",
       "  </tbody>\n",
       "</table>\n",
       "</div>"
      ],
      "text/plain": [
       "  Invoice StockCode                          Description  Quantity  \\\n",
       "0  489434     85048  15CM CHRISTMAS GLASS BALL 20 LIGHTS        12   \n",
       "1  489434    79323P                   PINK CHERRY LIGHTS        12   \n",
       "2  489434    79323W                  WHITE CHERRY LIGHTS        12   \n",
       "3  489434     22041         RECORD FRAME 7\" SINGLE SIZE         48   \n",
       "4  489434     21232       STRAWBERRY CERAMIC TRINKET BOX        24   \n",
       "\n",
       "          InvoiceDate  Price  Customer ID         Country  TotalPrice  \n",
       "0 2009-12-01 07:45:00   6.95        13085  United Kingdom        83.4  \n",
       "1 2009-12-01 07:45:00   6.75        13085  United Kingdom        81.0  \n",
       "2 2009-12-01 07:45:00   6.75        13085  United Kingdom        81.0  \n",
       "3 2009-12-01 07:45:00   2.10        13085  United Kingdom       100.8  \n",
       "4 2009-12-01 07:45:00   1.25        13085  United Kingdom        30.0  "
      ]
     },
     "execution_count": 14,
     "metadata": {},
     "output_type": "execute_result"
    }
   ],
   "source": [
    "df.head()"
   ]
  },
  {
   "cell_type": "code",
   "execution_count": 21,
   "id": "9222b69a",
   "metadata": {},
   "outputs": [],
   "source": [
    "df.to_csv('data/retail_cleaned_data.csv', index=False)"
   ]
  },
  {
   "cell_type": "markdown",
   "id": "95467b1c",
   "metadata": {},
   "source": [
    "# Feature Engineerig"
   ]
  },
  {
   "cell_type": "code",
   "execution_count": null,
   "id": "4c409d9e-fd4c-4b5f-b15d-33241145b394",
   "metadata": {},
   "outputs": [],
   "source": [
    "\n",
    "# Define the cutoff date\n",
    "cutoff_date = pd.to_datetime(\"2011-07-01\")\n",
    "\n",
    "df_past = df[df[\"InvoiceDate\"] < cutoff_date].copy()\n",
    "snapshot_date = df_past[\"InvoiceDate\"].max() + pd.Timedelta(days=1)\n",
    "\n",
    "# Group by customer and create aggregated features\n",
    "features = df_past.groupby(\"Customer ID\").agg({\n",
    "    \"InvoiceDate\": [\n",
    "        lambda x: (snapshot_date - x.max()).days,   # Recency\n",
    "        lambda x: (snapshot_date - x.min()).days    # Tenure (customer age)\n",
    "    ],\n",
    "    \"Invoice\": \"nunique\",                           # Frequency\n",
    "    \"TotalPrice\": \"sum\",                            # Monetary value\n",
    "    \"Quantity\": \"sum\",                              # Total quantity bought\n",
    "    \"Price\": \"mean\",                                # Avg unit price\n",
    "    \"Country\": \"first\"                              # Country (optional)\n",
    "})\n",
    "\n",
    "features.columns = [\n",
    "    \"Recency\", \"Tenure\", \"Frequency\", \"TotalSpent\",\n",
    "    \"TotalQuantity\", \"AvgUnitPrice\", \"Country\"\n",
    "]\n",
    "\n",
    "\n",
    "features[\"AvgOrderValue\"] = features[\"TotalSpent\"] / features[\"Frequency\"]\n",
    "features[\"AvgQuantity\"] = features[\"TotalQuantity\"] / features[\"Frequency\"]\n",
    "features = features.reset_index()\n"
   ]
  },
  {
   "cell_type": "code",
   "execution_count": 16,
   "id": "3a6d8ae7",
   "metadata": {},
   "outputs": [
    {
     "data": {
      "text/html": [
       "<div>\n",
       "<style scoped>\n",
       "    .dataframe tbody tr th:only-of-type {\n",
       "        vertical-align: middle;\n",
       "    }\n",
       "\n",
       "    .dataframe tbody tr th {\n",
       "        vertical-align: top;\n",
       "    }\n",
       "\n",
       "    .dataframe thead th {\n",
       "        text-align: right;\n",
       "    }\n",
       "</style>\n",
       "<table border=\"1\" class=\"dataframe\">\n",
       "  <thead>\n",
       "    <tr style=\"text-align: right;\">\n",
       "      <th></th>\n",
       "      <th>Customer ID</th>\n",
       "      <th>Recency</th>\n",
       "      <th>Tenure</th>\n",
       "      <th>Frequency</th>\n",
       "      <th>TotalSpent</th>\n",
       "      <th>TotalQuantity</th>\n",
       "      <th>AvgUnitPrice</th>\n",
       "      <th>Country</th>\n",
       "      <th>AvgOrderValue</th>\n",
       "      <th>AvgQuantity</th>\n",
       "    </tr>\n",
       "  </thead>\n",
       "  <tbody>\n",
       "    <tr>\n",
       "      <th>0</th>\n",
       "      <td>12346</td>\n",
       "      <td>164</td>\n",
       "      <td>564</td>\n",
       "      <td>12</td>\n",
       "      <td>77556.46</td>\n",
       "      <td>74285</td>\n",
       "      <td>6.100000</td>\n",
       "      <td>United Kingdom</td>\n",
       "      <td>6463.038333</td>\n",
       "      <td>6190.416667</td>\n",
       "    </tr>\n",
       "    <tr>\n",
       "      <th>1</th>\n",
       "      <td>12347</td>\n",
       "      <td>22</td>\n",
       "      <td>243</td>\n",
       "      <td>5</td>\n",
       "      <td>3529.27</td>\n",
       "      <td>2141</td>\n",
       "      <td>2.552717</td>\n",
       "      <td>Iceland</td>\n",
       "      <td>705.854000</td>\n",
       "      <td>428.200000</td>\n",
       "    </tr>\n",
       "    <tr>\n",
       "      <th>2</th>\n",
       "      <td>12348</td>\n",
       "      <td>87</td>\n",
       "      <td>277</td>\n",
       "      <td>4</td>\n",
       "      <td>1709.40</td>\n",
       "      <td>2497</td>\n",
       "      <td>3.137500</td>\n",
       "      <td>Finland</td>\n",
       "      <td>427.350000</td>\n",
       "      <td>624.250000</td>\n",
       "    </tr>\n",
       "    <tr>\n",
       "      <th>3</th>\n",
       "      <td>12349</td>\n",
       "      <td>246</td>\n",
       "      <td>428</td>\n",
       "      <td>3</td>\n",
       "      <td>2671.14</td>\n",
       "      <td>993</td>\n",
       "      <td>8.581765</td>\n",
       "      <td>Italy</td>\n",
       "      <td>890.380000</td>\n",
       "      <td>331.000000</td>\n",
       "    </tr>\n",
       "    <tr>\n",
       "      <th>4</th>\n",
       "      <td>12350</td>\n",
       "      <td>149</td>\n",
       "      <td>149</td>\n",
       "      <td>1</td>\n",
       "      <td>334.40</td>\n",
       "      <td>197</td>\n",
       "      <td>3.841176</td>\n",
       "      <td>Norway</td>\n",
       "      <td>334.400000</td>\n",
       "      <td>197.000000</td>\n",
       "    </tr>\n",
       "  </tbody>\n",
       "</table>\n",
       "</div>"
      ],
      "text/plain": [
       "   Customer ID  Recency  Tenure  Frequency  TotalSpent  TotalQuantity  \\\n",
       "0        12346      164     564         12    77556.46          74285   \n",
       "1        12347       22     243          5     3529.27           2141   \n",
       "2        12348       87     277          4     1709.40           2497   \n",
       "3        12349      246     428          3     2671.14            993   \n",
       "4        12350      149     149          1      334.40            197   \n",
       "\n",
       "   AvgUnitPrice         Country  AvgOrderValue  AvgQuantity  \n",
       "0      6.100000  United Kingdom    6463.038333  6190.416667  \n",
       "1      2.552717         Iceland     705.854000   428.200000  \n",
       "2      3.137500         Finland     427.350000   624.250000  \n",
       "3      8.581765           Italy     890.380000   331.000000  \n",
       "4      3.841176          Norway     334.400000   197.000000  "
      ]
     },
     "execution_count": 16,
     "metadata": {},
     "output_type": "execute_result"
    }
   ],
   "source": [
    "features.head()"
   ]
  },
  {
   "cell_type": "code",
   "execution_count": 17,
   "id": "7ad0618d",
   "metadata": {},
   "outputs": [
    {
     "name": "stdout",
     "output_type": "stream",
     "text": [
      "Transactions BEFORE cutoff: 580299\n",
      "Transactions AFTER cutoff: 225250\n"
     ]
    }
   ],
   "source": [
    "\n",
    "cutoff_date = pd.to_datetime(\"2011-07-01\")\n",
    "\n",
    "df_past = df[df[\"InvoiceDate\"] < cutoff_date].copy()\n",
    "\n",
    "df_future = df[df[\"InvoiceDate\"] >= cutoff_date].copy()\n",
    "\n",
    "\n",
    "print(\"Transactions BEFORE cutoff:\", df_past.shape[0])\n",
    "print(\"Transactions AFTER cutoff:\", df_future.shape[0])\n"
   ]
  },
  {
   "cell_type": "code",
   "execution_count": null,
   "id": "00676491",
   "metadata": {},
   "outputs": [],
   "source": [
    "\n",
    "cutoff_date = pd.to_datetime(\"2011-07-01\")\n",
    "date_3m = cutoff_date + pd.DateOffset(months=3)   # 2011-10-01\n",
    "date_6m = cutoff_date + pd.DateOffset(months=6)   # 2012-01-01 (goes beyond data range, will still work)\n",
    "\n",
    "df_future = df[df[\"InvoiceDate\"] >= cutoff_date].copy()\n",
    "\n",
    "\n",
    "label_3m = df_future[df_future[\"InvoiceDate\"] < date_3m].groupby(\"Customer ID\")[\"TotalPrice\"].sum()\n",
    "label_6m = df_future[df_future[\"InvoiceDate\"] < date_6m].groupby(\"Customer ID\")[\"TotalPrice\"].sum()\n",
    "\n",
    "features[\"CLV_3M\"] = features[\"Customer ID\"].map(label_3m)\n",
    "features[\"CLV_6M\"] = features[\"Customer ID\"].map(label_6m)\n",
    "\n",
    "features[\"CLV_3M\"].fillna(0, inplace=True)\n",
    "features[\"CLV_6M\"].fillna(0, inplace=True)\n"
   ]
  },
  {
   "cell_type": "markdown",
   "id": "85b7e160",
   "metadata": {},
   "source": [
    "# Model Training and Accuracy Calculation"
   ]
  },
  {
   "cell_type": "code",
   "execution_count": null,
   "id": "b61bb19f",
   "metadata": {},
   "outputs": [
    {
     "name": "stdout",
     "output_type": "stream",
     "text": [
      "3M RMSE: 3418.05, R²: 0.44\n",
      "6M RMSE: 5357.62, R²: 0.56\n"
     ]
    }
   ],
   "source": [
    "from xgboost import XGBRegressor\n",
    "from sklearn.model_selection import train_test_split\n",
    "from sklearn.metrics import mean_squared_error, r2_score\n",
    "import numpy as np\n",
    "\n",
    "# Select features and labels\n",
    "X = features[[\n",
    "    \"Recency\", \"Tenure\", \"Frequency\", \"TotalSpent\",\n",
    "    \"TotalQuantity\", \"AvgUnitPrice\", \"AvgOrderValue\", \"AvgQuantity\"\n",
    "]]\n",
    "\n",
    "y_3m = features[\"CLV_3M\"]\n",
    "y_6m = features[\"CLV_6M\"]\n",
    "\n",
    "# Split into train and test sets\n",
    "X_train_3m, X_test_3m, y_train_3m, y_test_3m = train_test_split(X, y_3m, test_size=0.2, random_state=42)\n",
    "X_train_6m, X_test_6m, y_train_6m, y_test_6m = train_test_split(X, y_6m, test_size=0.2, random_state=42)\n",
    "\n",
    "# Train XGBoost Regressors\n",
    "model_3m = XGBRegressor(objective='reg:squarederror', random_state=42)\n",
    "model_6m = XGBRegressor(objective='reg:squarederror', random_state=42)\n",
    "\n",
    "model_3m.fit(X_train_3m, y_train_3m)\n",
    "model_6m.fit(X_train_6m, y_train_6m)\n",
    "\n",
    "# Evaluate the models\n",
    "y_pred_3m = model_3m.predict(X_test_3m)\n",
    "y_pred_6m = model_6m.predict(X_test_6m)\n",
    "\n",
    "\n",
    "# Accuracy Calculation\n",
    "rmse_3m = np.sqrt(mean_squared_error(y_test_3m, y_pred_3m))\n",
    "rmse_6m = np.sqrt(mean_squared_error(y_test_6m, y_pred_6m))\n",
    "\n",
    "r2_3m = r2_score(y_test_3m, y_pred_3m)\n",
    "r2_6m = r2_score(y_test_6m, y_pred_6m)\n",
    "\n",
    "print(f\"3M RMSE: {rmse_3m:.2f}, R²: {r2_3m:.2f}\")\n",
    "print(f\"6M RMSE: {rmse_6m:.2f}, R²: {r2_6m:.2f}\")\n"
   ]
  },
  {
   "cell_type": "code",
   "execution_count": 25,
   "id": "8fae943f",
   "metadata": {},
   "outputs": [
    {
     "data": {
      "image/png": "[encoded data removed]",
      "text/plain": [
       "<Figure size 640x480 with 1 Axes>"
      ]
     },
     "metadata": {},
     "output_type": "display_data"
    }
   ],
   "source": [
    "import matplotlib.pyplot as plt\n",
    "\n",
    "plt.scatter(y_test_3m, y_pred_3m, alpha=0.5)\n",
    "plt.xlabel(\"Actual CLV_3M\")\n",
    "plt.ylabel(\"Predicted CLV_3M\")\n",
    "plt.title(\"3M Actual vs Predicted\")\n",
    "plt.show()\n"
   ]
  },
  {
   "cell_type": "code",
   "execution_count": 23,
   "id": "0aa1e7c5",
   "metadata": {},
   "outputs": [],
   "source": [
    "features.to_csv('data/features.csv',index=False)"
   ]
  },
  {
   "cell_type": "code",
   "execution_count": 24,
   "id": "0f450b87",
   "metadata": {},
   "outputs": [
    {
     "data": {
      "text/plain": [
       "['models/clv_model_6m.pkl']"
      ]
     },
     "execution_count": 24,
     "metadata": {},
     "output_type": "execute_result"
    }
   ],
   "source": [
    "import joblib\n",
    "\n",
    "# Save the models\n",
    "joblib.dump(model_3m, \"models/clv_model_3m.pkl\")\n",
    "joblib.dump(model_6m, \"models/clv_model_6m.pkl\")\n"
   ]
  }
 ],
 "metadata": {
  "kernelspec": {
   "display_name": "Python 3",
   "language": "python",
   "name": "python3"
  },
  "language_info": {
   "codemirror_mode": {
    "name": "ipython",
    "version": 3
   },
   "file_extension": ".py",
   "mimetype": "text/x-python",
   "name": "python",
   "nbconvert_exporter": "python",
   "pygments_lexer": "ipython3",
   "version": "3.10.10"
  }
 },
 "nbformat": 4,
 "nbformat_minor": 5
}
